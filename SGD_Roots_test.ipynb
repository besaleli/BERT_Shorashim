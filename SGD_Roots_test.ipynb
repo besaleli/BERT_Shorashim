{
 "cells": [
  {
   "cell_type": "code",
   "execution_count": 1,
   "id": "7154052c-d446-4ff8-bddb-4d1fbab216a6",
   "metadata": {},
   "outputs": [],
   "source": [
    "from libs.corp_df import *\n",
    "from tqdm.auto import tqdm\n",
    "from libs.get_docs import get_pickled_docs as gpd\n",
    "from libs.dim_red import *\n",
    "import pandas as pd\n",
    "import torch\n",
    "import random\n",
    "import matplotlib.pyplot as plt\n",
    "import numpy as np\n",
    "import time"
   ]
  },
  {
   "cell_type": "code",
   "execution_count": 2,
   "id": "19dc2fd8-a7d3-47ac-b6ad-ed79a5f1941f",
   "metadata": {},
   "outputs": [
    {
     "name": "stdout",
     "output_type": "stream",
     "text": [
      "Retrieving Documents...\n",
      "TIME ELAPSED: 30.63s\n"
     ]
    }
   ],
   "source": [
    "# retrieve documents\n",
    "print('Retrieving Documents...')\n",
    "cdir = 'corpora/articles_stage2.pickle'\n",
    "docs = gpd(cdir, verbose=True)"
   ]
  },
  {
   "cell_type": "code",
   "execution_count": 3,
   "id": "a3e4f3bc-36aa-4ec4-8964-6847ebe228ab",
   "metadata": {},
   "outputs": [
    {
     "data": {
      "application/vnd.jupyter.widget-view+json": {
       "model_id": "8137f882747c40fb9d5e5344f7aeb7df",
       "version_major": 2,
       "version_minor": 0
      },
      "text/plain": [
       "  0%|          | 0/524 [00:00<?, ?it/s]"
      ]
     },
     "metadata": {},
     "output_type": "display_data"
    }
   ],
   "source": [
    "vectors = []\n",
    "labs = []\n",
    "\n",
    "for doc in tqdm(docs):\n",
    "    for pg in doc:\n",
    "        for sent in pg:\n",
    "            for tok in sent:\n",
    "                if tok.tokenizer_index != 1:\n",
    "                    for lem in tok:\n",
    "                        if lem.pos_tag in ['VB', 'BN', 'BNT']:\n",
    "                            embed = sum(tok.embedding).numpy()\n",
    "                            vectors.append(embed)\n",
    "                            labs.append(lem.shoresh)\n",
    "                            \n",
    "df = pd.DataFrame({'lab': labs, 'embedding': vectors})\n",
    "\n",
    "df['lab_id'] = df['lab'].map({lab: i for lab, i in zip(df['lab'].unique(), range(len(df['lab'].unique())))})"
   ]
  },
  {
   "cell_type": "code",
   "execution_count": 4,
   "id": "b54de6e9-2035-48c3-98dd-db4fa3a4393a",
   "metadata": {},
   "outputs": [],
   "source": [
    "from sklearn.linear_model import SGDClassifier\n",
    "from sklearn.model_selection import train_test_split"
   ]
  },
  {
   "cell_type": "code",
   "execution_count": 5,
   "id": "0c439cb9-3e4b-465b-8602-8c31d01bdfad",
   "metadata": {},
   "outputs": [],
   "source": [
    "vec_train, vec_test, lab_train, lab_test = train_test_split(df['embedding'].to_list(), df['lab_id'].to_list())"
   ]
  },
  {
   "cell_type": "code",
   "execution_count": 8,
   "id": "7b07601e-ecfc-4795-a307-9d0627c7da72",
   "metadata": {
    "scrolled": true,
    "tags": []
   },
   "outputs": [
    {
     "name": "stdout",
     "output_type": "stream",
     "text": [
      "classifying...\n",
      "Training time: 100.15s\n"
     ]
    }
   ],
   "source": [
    "sgd = SGDClassifier()\n",
    "\n",
    "print('classifying...')\n",
    "start = time.time()\n",
    "sgd.fit(vec_train, lab_train)\n",
    "end = time.time()\n",
    "\n",
    "print('Training time: {}s'.format(np.round(end-start, 2)))"
   ]
  },
  {
   "cell_type": "code",
   "execution_count": 13,
   "id": "2c79c2fb-672a-486e-a4f7-a41293c6bb74",
   "metadata": {},
   "outputs": [],
   "source": [
    "from sklearn.metrics import f1_score, accuracy_score, precision_score, recall_score\n",
    "\n",
    "metrics = [('ACCURACY', accuracy_score), ('F1', f1_score)]"
   ]
  },
  {
   "cell_type": "code",
   "execution_count": 24,
   "id": "e54a6bcb-3127-4576-951d-97d4348c1c85",
   "metadata": {},
   "outputs": [],
   "source": [
    "def error_analysis(model, emb_test, lab_test):\n",
    "    predicted_labs = model.predict(emb_test)\n",
    "    acc = accuracy_score(lab_test, predicted_labs)\n",
    "    prec = precision_score(lab_test, predicted_labs, average='weighted')\n",
    "    rec = recall_score(lab_test, predicted_labs, average='weighted')\n",
    "    f1 = f1_score(lab_test, predicted_labs, average='weighted')\n",
    "    \n",
    "    print(acc, prec, rec, f1)"
   ]
  },
  {
   "cell_type": "code",
   "execution_count": 25,
   "id": "aaab6d31-58da-4a79-b011-0eaa7c1d59d7",
   "metadata": {},
   "outputs": [
    {
     "name": "stdout",
     "output_type": "stream",
     "text": [
      "0.9218177902218393 0.9315901189081436 0.9218177902218393 0.9207710622612838\n"
     ]
    },
    {
     "name": "stderr",
     "output_type": "stream",
     "text": [
      "/home/besalelir1/anaconda3/lib/python3.8/site-packages/sklearn/metrics/_classification.py:1245: UndefinedMetricWarning: Precision is ill-defined and being set to 0.0 in labels with no predicted samples. Use `zero_division` parameter to control this behavior.\n",
      "  _warn_prf(average, modifier, msg_start, len(result))\n",
      "/home/besalelir1/anaconda3/lib/python3.8/site-packages/sklearn/metrics/_classification.py:1245: UndefinedMetricWarning: Recall is ill-defined and being set to 0.0 in labels with no true samples. Use `zero_division` parameter to control this behavior.\n",
      "  _warn_prf(average, modifier, msg_start, len(result))\n"
     ]
    }
   ],
   "source": [
    "error_analysis(sgd, vec_test, lab_test)"
   ]
  },
  {
   "cell_type": "code",
   "execution_count": null,
   "id": "b6bc4315-2e7a-43e1-931e-e4e725b724c7",
   "metadata": {},
   "outputs": [],
   "source": []
  }
 ],
 "metadata": {
  "kernelspec": {
   "display_name": "Python 3",
   "language": "python",
   "name": "python3"
  },
  "language_info": {
   "codemirror_mode": {
    "name": "ipython",
    "version": 3
   },
   "file_extension": ".py",
   "mimetype": "text/x-python",
   "name": "python",
   "nbconvert_exporter": "python",
   "pygments_lexer": "ipython3",
   "version": "3.8.8"
  }
 },
 "nbformat": 4,
 "nbformat_minor": 5
}
