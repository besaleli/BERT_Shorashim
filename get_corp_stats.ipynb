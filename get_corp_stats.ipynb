{
 "cells": [
  {
   "cell_type": "code",
   "execution_count": 1,
   "id": "af61d44f-89f6-4a5c-9330-1a39fc662f61",
   "metadata": {},
   "outputs": [
    {
     "data": {
      "application/vnd.jupyter.widget-view+json": {
       "model_id": "0ac4b31b5b294930bb1fa8c465e39ccc",
       "version_major": 2,
       "version_minor": 0
      },
      "text/plain": [
       "  0%|          | 0/295 [00:00<?, ?it/s]"
      ]
     },
     "metadata": {},
     "output_type": "display_data"
    }
   ],
   "source": [
    "from libs.corp_df import *\n",
    "from libs.Embeddings import *\n",
    "from lexicons.mila import get_lex\n",
    "import numpy as np\n",
    "from tqdm.auto import tqdm\n",
    "from libs.get_docs import getDocs\n",
    "import pandas as pd\n",
    "\n",
    "# retrieve documents\n",
    "cdir = 'corpora/articles_stage2/*.json'\n",
    "docs = getDocs(cdir, verbose=False)"
   ]
  },
  {
   "cell_type": "code",
   "execution_count": 17,
   "id": "ead2f756-d38c-45fc-82f5-90e7c8916c8b",
   "metadata": {},
   "outputs": [],
   "source": [
    "toks = []\n",
    "for doc in docs:\n",
    "    for pg in doc:\n",
    "        for sent in pg:\n",
    "            for tok in sent:\n",
    "                for lem in tok:\n",
    "                    if lem.pos_tag in ['VB', 'BN', 'BNT']:\n",
    "                        toks.append((doc, pg, sent, tok))"
   ]
  },
  {
   "cell_type": "code",
   "execution_count": 12,
   "id": "642328b7-9d90-4ea5-862e-de1f9072b720",
   "metadata": {},
   "outputs": [],
   "source": [
    "morphemes_per_tok = []\n",
    "for doc, tok in toks:\n",
    "    morphemes_per_tok.append(len(tok.lemmas))"
   ]
  },
  {
   "cell_type": "code",
   "execution_count": 19,
   "id": "2dac0ace-81af-417a-8952-c8ef201f1b95",
   "metadata": {},
   "outputs": [],
   "source": [
    "maxdoc, maxpg, maxsent, maxtok = max(toks, key=lambda i: len(i[3].lemmas))"
   ]
  },
  {
   "cell_type": "code",
   "execution_count": 22,
   "id": "d807955e-3bb5-4c86-b545-6abb7fb01e06",
   "metadata": {},
   "outputs": [
    {
     "name": "stdout",
     "output_type": "stream",
     "text": [
      "2636\n",
      "1\n",
      "5\n"
     ]
    }
   ],
   "source": [
    "print(maxdoc.doc_id)\n",
    "print(maxpg.pg_id)\n",
    "print(maxsent.sent_id)"
   ]
  },
  {
   "cell_type": "code",
   "execution_count": 23,
   "id": "be20b9ba-1275-4b84-874d-92abbf56e885",
   "metadata": {},
   "outputs": [
    {
     "name": "stdout",
     "output_type": "stream",
     "text": [
      "אנו רואים עין בעין כיצד מתקיימת אחרית שירת הים - \" נחית בחסדך עם זו גאלת , נהלת בעזך אל נוה קדשך \" , ומאידך אויבי ישראל , כאשר הם שומעים על תחיית עם ישראל מתרגזים ומתקוממים : \" שמעו עמים ירגזון \" אבל אוחזים אותם אימה ופחד ככתוב \" חיל אחז יושבי פלשת נמוגו כל יושבי כנען תפול עליהם אימתה ופחד \" , הם נמנעים מלתקוף אותנו , מתוך שנופלים עליהם אימה ופחד מפני עוצמתו וכוחו של צה\"ל שהוא צבא ד' יתברך , ולא ירחק היום ונזכה לראות עין בעין בהגשמת ההבטחה של \" עד יעבר עמך ד' עד יעבור עם זו קנית \" ומתוך כך \" ד' ימלוך לעולם ועד \" , שאז תתגלה מלכותו בכל הארץ שזה נצחונם של ישראל כפי שנאמר \" והיה ד' למלך על כל הארץ ביום ההוא יהיה ד' אחד ושמו אחד \" .\n"
     ]
    }
   ],
   "source": [
    "print(maxsent)"
   ]
  },
  {
   "cell_type": "code",
   "execution_count": null,
   "id": "00e3a3c1-fbb9-426a-8a47-56c8af7b6950",
   "metadata": {},
   "outputs": [],
   "source": []
  }
 ],
 "metadata": {
  "kernelspec": {
   "display_name": "Python 3",
   "language": "python",
   "name": "python3"
  },
  "language_info": {
   "codemirror_mode": {
    "name": "ipython",
    "version": 3
   },
   "file_extension": ".py",
   "mimetype": "text/x-python",
   "name": "python",
   "nbconvert_exporter": "python",
   "pygments_lexer": "ipython3",
   "version": "3.8.8"
  }
 },
 "nbformat": 4,
 "nbformat_minor": 5
}
