{
 "cells": [
  {
   "cell_type": "code",
   "execution_count": 1,
   "id": "e3b1220e-e1f1-4556-bea3-74e67dc2cda9",
   "metadata": {},
   "outputs": [],
   "source": [
    "from bs4 import BeautifulSoup\n",
    "import bs4\n",
    "from corp_df import *\n",
    "from makeDocument import *"
   ]
  },
  {
   "cell_type": "code",
   "execution_count": 2,
   "id": "98e16830-d66f-49bb-b9a2-cadcc2ae8623",
   "metadata": {},
   "outputs": [],
   "source": [
    "doc = makeDocument(1000, '1000.xml')"
   ]
  },
  {
   "cell_type": "code",
   "execution_count": null,
   "id": "529b911f-8c0d-4427-836a-d2aeb6811fcb",
   "metadata": {},
   "outputs": [],
   "source": []
  }
 ],
 "metadata": {
  "kernelspec": {
   "display_name": "Python 3",
   "language": "python",
   "name": "python3"
  },
  "language_info": {
   "codemirror_mode": {
    "name": "ipython",
    "version": 3
   },
   "file_extension": ".py",
   "mimetype": "text/x-python",
   "name": "python",
   "nbconvert_exporter": "python",
   "pygments_lexer": "ipython3",
   "version": "3.8.8"
  }
 },
 "nbformat": 4,
 "nbformat_minor": 5
}
