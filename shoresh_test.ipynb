{
 "cells": [
  {
   "cell_type": "code",
   "execution_count": 1,
   "id": "23e6c62c-a61a-441c-81fe-1c02c607521f",
   "metadata": {},
   "outputs": [
    {
     "name": "stdout",
     "output_type": "stream",
     "text": [
      "TIME ELAPSED: 30.2s\n"
     ]
    }
   ],
   "source": [
    "from libs.corp_df import *\n",
    "from libs.Embeddings import *\n",
    "from libs.root_exp import *\n",
    "import numpy as np\n",
    "from tqdm.auto import tqdm\n",
    "from libs.get_docs import get_pickled_docs\n",
    "import pandas as pd\n",
    "import torch\n",
    "\n",
    "# retrieve documents\n",
    "cdir = 'corpora/articles_stage2.pickle'\n",
    "docs = get_pickled_docs(cdir, verbose=True)"
   ]
  },
  {
   "cell_type": "code",
   "execution_count": 3,
   "id": "90ffa832-8aaf-40a3-8f64-846d0a2dc145",
   "metadata": {},
   "outputs": [
    {
     "data": {
      "application/vnd.jupyter.widget-view+json": {
       "model_id": "8ea12fbf5d0d4390bfdf1567c0ef1e07",
       "version_major": 2,
       "version_minor": 0
      },
      "text/plain": [
       "  0%|          | 0/524 [00:00<?, ?it/s]"
      ]
     },
     "metadata": {},
     "output_type": "display_data"
    },
    {
     "name": "stdout",
     "output_type": "stream",
     "text": [
      "26165\n"
     ]
    }
   ],
   "source": [
    "# retrieve instances\n",
    "instances = get_instances(docs)\n",
    "print(len(instances))"
   ]
  },
  {
   "cell_type": "code",
   "execution_count": 4,
   "id": "903e4675-886f-4d20-8e88-c7a451d26f0b",
   "metadata": {},
   "outputs": [
    {
     "name": "stdout",
     "output_type": "stream",
     "text": [
      "1363\n"
     ]
    }
   ],
   "source": [
    "roots = [i.root for i in instances]\n",
    "print(len(set(roots)))"
   ]
  },
  {
   "cell_type": "code",
   "execution_count": 7,
   "id": "a680a06d-7df7-457e-9c43-3e0f71a0b24d",
   "metadata": {},
   "outputs": [
    {
     "name": "stdout",
     "output_type": "stream",
     "text": [
      "214\n"
     ]
    }
   ],
   "source": [
    "bad_roots = set()\n",
    "for root in set(roots):\n",
    "    if roots.count(root) == 1:\n",
    "        bad_roots.add(root)\n",
    "        \n",
    "print(len(bad_roots))"
   ]
  },
  {
   "cell_type": "code",
   "execution_count": 20,
   "id": "e6d77673-d9b7-4cfd-b2d4-15c4ec93f7bd",
   "metadata": {},
   "outputs": [
    {
     "name": "stdout",
     "output_type": "stream",
     "text": [
      "684607225\n",
      "91259809\n"
     ]
    }
   ],
   "source": [
    "import random\n",
    "roots_sample = random.sample(set(roots), 500)\n",
    "print(len(instances)**2)\n",
    "print(len([i for i in instances if i.root in roots_sample])**2)"
   ]
  },
  {
   "cell_type": "code",
   "execution_count": null,
   "id": "05631679-528c-4e6a-be01-4847806f1cc2",
   "metadata": {},
   "outputs": [],
   "source": [
    "# get metrics\n",
    "metrics = get_distance_metrics(instances)"
   ]
  },
  {
   "cell_type": "code",
   "execution_count": null,
   "id": "8eee6f11-bc23-4bab-8dc0-cdb45bf6b145",
   "metadata": {},
   "outputs": [],
   "source": [
    "metrics.to_csv('data/metrics.csv')"
   ]
  },
  {
   "cell_type": "code",
   "execution_count": null,
   "id": "46fa29c1-b3f3-45ec-a599-934bf41094c3",
   "metadata": {},
   "outputs": [],
   "source": []
  }
 ],
 "metadata": {
  "kernelspec": {
   "display_name": "Python 3",
   "language": "python",
   "name": "python3"
  },
  "language_info": {
   "codemirror_mode": {
    "name": "ipython",
    "version": 3
   },
   "file_extension": ".py",
   "mimetype": "text/x-python",
   "name": "python",
   "nbconvert_exporter": "python",
   "pygments_lexer": "ipython3",
   "version": "3.8.8"
  }
 },
 "nbformat": 4,
 "nbformat_minor": 5
}
