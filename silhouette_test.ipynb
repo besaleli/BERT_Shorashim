{
 "cells": [
  {
   "cell_type": "code",
   "execution_count": 15,
   "id": "9d0fa2a7-8953-400c-ae91-ece05b3c5233",
   "metadata": {},
   "outputs": [],
   "source": [
    "from libs.corp_df import *\n",
    "from libs.get_docs import get_pickled_docs as gpd\n",
    "import numpy as np\n",
    "import torch\n",
    "from sklearn.metrics import silhouette_score\n",
    "from tqdm.auto import tqdm\n",
    "import random\n",
    "import pandas as pd\n",
    "import itertools"
   ]
  },
  {
   "cell_type": "code",
   "execution_count": 2,
   "id": "4b74aca6-acc0-4cd4-a635-19f2d53b1c10",
   "metadata": {},
   "outputs": [
    {
     "name": "stdout",
     "output_type": "stream",
     "text": [
      "Retrieving Documents...\n",
      "TIME ELAPSED: 30.13s\n"
     ]
    }
   ],
   "source": [
    "# retrieve documents\n",
    "print('Retrieving Documents...')\n",
    "cdir = 'corpora/articles_stage2.pickle'\n",
    "docs = gpd(cdir, verbose=True)"
   ]
  },
  {
   "cell_type": "code",
   "execution_count": 3,
   "id": "6a9c674b-b5da-413b-9aa5-da942dd70778",
   "metadata": {},
   "outputs": [
    {
     "name": "stdout",
     "output_type": "stream",
     "text": [
      "getting raw roots...\n"
     ]
    },
    {
     "data": {
      "application/vnd.jupyter.widget-view+json": {
       "model_id": "b3c8b4fd45de4334bb38c5d45619fb7d",
       "version_major": 2,
       "version_minor": 0
      },
      "text/plain": [
       "  0%|          | 0/524 [00:00<?, ?it/s]"
      ]
     },
     "metadata": {},
     "output_type": "display_data"
    },
    {
     "name": "stdout",
     "output_type": "stream",
     "text": [
      "filtering...\n"
     ]
    },
    {
     "data": {
      "application/vnd.jupyter.widget-view+json": {
       "model_id": "9e79a3f513ad4b72a2b21d2a469f42e7",
       "version_major": 2,
       "version_minor": 0
      },
      "text/plain": [
       "  0%|          | 0/26165 [00:00<?, ?it/s]"
      ]
     },
     "metadata": {},
     "output_type": "display_data"
    },
    {
     "name": "stdout",
     "output_type": "stream",
     "text": [
      "308\n"
     ]
    }
   ],
   "source": [
    "roots_raw = []\n",
    "print('getting raw roots...')\n",
    "for doc in tqdm(docs):\n",
    "    for pg in doc:\n",
    "        for sent in pg:\n",
    "            for tok in sent:\n",
    "                for lem in tok:\n",
    "                    if lem.pos_tag in ['VB', 'BN', 'BNT']:\n",
    "                        if lem.shoresh is not None:\n",
    "                            roots_raw.append(lem.shoresh)\n",
    "                            \n",
    "# filter by minimum # occurrences\n",
    "print('filtering...')\n",
    "valid_roots = set([i for i in tqdm(roots_raw) if roots_raw.count(i) > 19])\n",
    "print(len(valid_roots))"
   ]
  },
  {
   "cell_type": "code",
   "execution_count": 136,
   "id": "9687b443-8bde-4291-987c-5985205a373f",
   "metadata": {},
   "outputs": [],
   "source": [
    "def select_roots(i):\n",
    "    return random.sample(valid_roots, i)\n",
    "\n",
    "def get_df(num_roots):\n",
    "    roots = select_roots(num_roots)\n",
    "    cats = ['lemma', 'root', 'binyan', 'raw_embedding']\n",
    "    dfdict = {cat: [] for cat in cats}\n",
    "    \n",
    "    for doc in docs:\n",
    "        for pg in doc:\n",
    "            for sent in pg:\n",
    "                for tok in sent:\n",
    "                    if tok.tokenizer_index != 1:\n",
    "                        for lem in tok:\n",
    "                            if lem.shoresh in roots:\n",
    "                                # get metadata\n",
    "                                dfdict['lemma'].append(lem.lemma)\n",
    "                                dfdict['root'].append(lem.shoresh)\n",
    "                                dfdict['binyan'].append(lem.binyan)\n",
    "                                dfdict['raw_embedding'].append(tok.embedding)\n",
    "    \n",
    "    return pd.DataFrame(dfdict)\n",
    "\n",
    "def get_summed_layers(embedding, layers):\n",
    "    if type(layers) == int:\n",
    "        return embedding[layers].numpy()\n",
    "    else:\n",
    "        return sum([embedding[l].numpy() for l in layers]).numpy()\n",
    "\n",
    "def roots_to_num(roots):\n",
    "    unique_roots = set(roots)\n",
    "    return {root: num for root, num in zip(unique_roots, range(len(unique_roots)))}\n",
    "\n",
    "def silhouette_exp(df, layers):\n",
    "    # so there's no data issues\n",
    "    cdf = df.copy()\n",
    "    # get embeddings for each layer\n",
    "    cdf['chosen_embedding'] = cdf['raw_embedding'].apply(lambda embed: get_summed_layers(embed, layers))\n",
    "    # get root IDs\n",
    "    cdf['root_id'] = cdf['root'].map(roots_to_num(cdf['root']))\n",
    "    embeds = cdf['chosen_embedding'].to_list()\n",
    "    labs = cdf['root_id'].to_numpy()\n",
    "    # get silhouette score\n",
    "    score = silhouette_score(embeds, labs, metric='cosine')\n",
    "    \n",
    "    del cdf\n",
    "    return score"
   ]
  },
  {
   "cell_type": "code",
   "execution_count": 150,
   "id": "264963a1-5f2c-4518-af47-6f80b290312d",
   "metadata": {},
   "outputs": [
    {
     "data": {
      "application/vnd.jupyter.widget-view+json": {
       "model_id": "b936c5fec01c4a2b9e5f208d62dda2a7",
       "version_major": 2,
       "version_minor": 0
      },
      "text/plain": [
       "  0%|          | 0/100 [00:00<?, ?it/s]"
      ]
     },
     "metadata": {},
     "output_type": "display_data"
    }
   ],
   "source": [
    "results = {'exp_id': [], 'roots': [], 'best_layer': []}\n",
    "    \n",
    "for i in range(12):\n",
    "    results['silhouette_layer_' + str(i)] = []\n",
    "\n",
    "NUM_ROOTS = 5\n",
    "for i in tqdm(range(100)):\n",
    "    results['exp_id'].append(i)\n",
    "    df = get_df(NUM_ROOTS)\n",
    "    results['roots'].append(df['root'].unique())\n",
    "    scores = []\n",
    "    for layer in range(12):\n",
    "        score = silhouette_exp(df, layer)\n",
    "        scores.append((layer, score))\n",
    "        results['silhouette_layer_' + str(layer)].append(score)\n",
    "        \n",
    "    results['best_layer'].append(max(scores, key=lambda j: j[1])[0])\n",
    "    \n",
    "resultsdf = pd.DataFrame(results)"
   ]
  },
  {
   "cell_type": "code",
   "execution_count": 156,
   "id": "a23d041c-6bdb-496b-96ea-95991c78e307",
   "metadata": {},
   "outputs": [
    {
     "name": "stdout",
     "output_type": "stream",
     "text": [
      "[0]\n"
     ]
    }
   ],
   "source": [
    "print(resultsdf['best_layer'].unique())"
   ]
  },
  {
   "cell_type": "code",
   "execution_count": 159,
   "id": "3186d4dd-84e5-4399-9ad6-18782d2c1d39",
   "metadata": {},
   "outputs": [
    {
     "data": {
      "text/html": [
       "<div>\n",
       "<style scoped>\n",
       "    .dataframe tbody tr th:only-of-type {\n",
       "        vertical-align: middle;\n",
       "    }\n",
       "\n",
       "    .dataframe tbody tr th {\n",
       "        vertical-align: top;\n",
       "    }\n",
       "\n",
       "    .dataframe thead th {\n",
       "        text-align: right;\n",
       "    }\n",
       "</style>\n",
       "<table border=\"1\" class=\"dataframe\">\n",
       "  <thead>\n",
       "    <tr style=\"text-align: right;\">\n",
       "      <th></th>\n",
       "      <th>exp_id</th>\n",
       "      <th>roots</th>\n",
       "      <th>best_layer</th>\n",
       "      <th>silhouette_layer_0</th>\n",
       "      <th>silhouette_layer_1</th>\n",
       "      <th>silhouette_layer_2</th>\n",
       "      <th>silhouette_layer_3</th>\n",
       "      <th>silhouette_layer_4</th>\n",
       "      <th>silhouette_layer_5</th>\n",
       "      <th>silhouette_layer_6</th>\n",
       "      <th>silhouette_layer_7</th>\n",
       "      <th>silhouette_layer_8</th>\n",
       "      <th>silhouette_layer_9</th>\n",
       "      <th>silhouette_layer_10</th>\n",
       "      <th>silhouette_layer_11</th>\n",
       "    </tr>\n",
       "  </thead>\n",
       "  <tbody>\n",
       "    <tr>\n",
       "      <th>86</th>\n",
       "      <td>86</td>\n",
       "      <td>[צרר, חוש, צרף, חרב, עין]</td>\n",
       "      <td>0</td>\n",
       "      <td>0.562860</td>\n",
       "      <td>0.540777</td>\n",
       "      <td>0.536892</td>\n",
       "      <td>0.515488</td>\n",
       "      <td>0.497242</td>\n",
       "      <td>0.487823</td>\n",
       "      <td>0.472279</td>\n",
       "      <td>0.463946</td>\n",
       "      <td>0.443638</td>\n",
       "      <td>0.429091</td>\n",
       "      <td>0.417430</td>\n",
       "      <td>0.417080</td>\n",
       "    </tr>\n",
       "    <tr>\n",
       "      <th>67</th>\n",
       "      <td>67</td>\n",
       "      <td>[כול, עזז, חשש, אבה, דבק]</td>\n",
       "      <td>0</td>\n",
       "      <td>0.558901</td>\n",
       "      <td>0.514080</td>\n",
       "      <td>0.480959</td>\n",
       "      <td>0.445910</td>\n",
       "      <td>0.422282</td>\n",
       "      <td>0.411944</td>\n",
       "      <td>0.390666</td>\n",
       "      <td>0.376121</td>\n",
       "      <td>0.351288</td>\n",
       "      <td>0.332329</td>\n",
       "      <td>0.332153</td>\n",
       "      <td>0.334097</td>\n",
       "    </tr>\n",
       "    <tr>\n",
       "      <th>14</th>\n",
       "      <td>14</td>\n",
       "      <td>[כרז, שים, תנה, רגש, ברך]</td>\n",
       "      <td>0</td>\n",
       "      <td>0.527245</td>\n",
       "      <td>0.487096</td>\n",
       "      <td>0.454471</td>\n",
       "      <td>0.418222</td>\n",
       "      <td>0.395167</td>\n",
       "      <td>0.385192</td>\n",
       "      <td>0.367691</td>\n",
       "      <td>0.351244</td>\n",
       "      <td>0.330350</td>\n",
       "      <td>0.310055</td>\n",
       "      <td>0.306229</td>\n",
       "      <td>0.315689</td>\n",
       "    </tr>\n",
       "    <tr>\n",
       "      <th>23</th>\n",
       "      <td>23</td>\n",
       "      <td>[סכן, גיס, רחש, איש]</td>\n",
       "      <td>0</td>\n",
       "      <td>0.480137</td>\n",
       "      <td>0.444539</td>\n",
       "      <td>0.414725</td>\n",
       "      <td>0.385807</td>\n",
       "      <td>0.363707</td>\n",
       "      <td>0.361524</td>\n",
       "      <td>0.346070</td>\n",
       "      <td>0.332891</td>\n",
       "      <td>0.313137</td>\n",
       "      <td>0.290194</td>\n",
       "      <td>0.289118</td>\n",
       "      <td>0.297084</td>\n",
       "    </tr>\n",
       "    <tr>\n",
       "      <th>52</th>\n",
       "      <td>52</td>\n",
       "      <td>[יחס, לחם, הוה, כרז, קרע]</td>\n",
       "      <td>0</td>\n",
       "      <td>0.478021</td>\n",
       "      <td>0.440877</td>\n",
       "      <td>0.411828</td>\n",
       "      <td>0.377016</td>\n",
       "      <td>0.346842</td>\n",
       "      <td>0.341148</td>\n",
       "      <td>0.335202</td>\n",
       "      <td>0.331443</td>\n",
       "      <td>0.318781</td>\n",
       "      <td>0.306709</td>\n",
       "      <td>0.287714</td>\n",
       "      <td>0.291596</td>\n",
       "    </tr>\n",
       "  </tbody>\n",
       "</table>\n",
       "</div>"
      ],
      "text/plain": [
       "    exp_id                      roots  best_layer  silhouette_layer_0  \\\n",
       "86      86  [צרר, חוש, צרף, חרב, עין]           0            0.562860   \n",
       "67      67  [כול, עזז, חשש, אבה, דבק]           0            0.558901   \n",
       "14      14  [כרז, שים, תנה, רגש, ברך]           0            0.527245   \n",
       "23      23       [סכן, גיס, רחש, איש]           0            0.480137   \n",
       "52      52  [יחס, לחם, הוה, כרז, קרע]           0            0.478021   \n",
       "\n",
       "    silhouette_layer_1  silhouette_layer_2  silhouette_layer_3  \\\n",
       "86            0.540777            0.536892            0.515488   \n",
       "67            0.514080            0.480959            0.445910   \n",
       "14            0.487096            0.454471            0.418222   \n",
       "23            0.444539            0.414725            0.385807   \n",
       "52            0.440877            0.411828            0.377016   \n",
       "\n",
       "    silhouette_layer_4  silhouette_layer_5  silhouette_layer_6  \\\n",
       "86            0.497242            0.487823            0.472279   \n",
       "67            0.422282            0.411944            0.390666   \n",
       "14            0.395167            0.385192            0.367691   \n",
       "23            0.363707            0.361524            0.346070   \n",
       "52            0.346842            0.341148            0.335202   \n",
       "\n",
       "    silhouette_layer_7  silhouette_layer_8  silhouette_layer_9  \\\n",
       "86            0.463946            0.443638            0.429091   \n",
       "67            0.376121            0.351288            0.332329   \n",
       "14            0.351244            0.330350            0.310055   \n",
       "23            0.332891            0.313137            0.290194   \n",
       "52            0.331443            0.318781            0.306709   \n",
       "\n",
       "    silhouette_layer_10  silhouette_layer_11  \n",
       "86             0.417430             0.417080  \n",
       "67             0.332153             0.334097  \n",
       "14             0.306229             0.315689  \n",
       "23             0.289118             0.297084  \n",
       "52             0.287714             0.291596  "
      ]
     },
     "execution_count": 159,
     "metadata": {},
     "output_type": "execute_result"
    }
   ],
   "source": [
    "resultsdf.sort_values(by='silhouette_layer_0', ascending=False, inplace=True)\n",
    "resultsdf.head()"
   ]
  },
  {
   "cell_type": "code",
   "execution_count": null,
   "id": "08d341eb-9507-412f-9dbe-2348e7577fc4",
   "metadata": {},
   "outputs": [],
   "source": []
  }
 ],
 "metadata": {
  "kernelspec": {
   "display_name": "Python 3",
   "language": "python",
   "name": "python3"
  },
  "language_info": {
   "codemirror_mode": {
    "name": "ipython",
    "version": 3
   },
   "file_extension": ".py",
   "mimetype": "text/x-python",
   "name": "python",
   "nbconvert_exporter": "python",
   "pygments_lexer": "ipython3",
   "version": "3.8.8"
  }
 },
 "nbformat": 4,
 "nbformat_minor": 5
}
