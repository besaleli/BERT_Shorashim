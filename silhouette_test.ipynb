{
 "cells": [
  {
   "cell_type": "code",
   "execution_count": 1,
   "id": "9d0fa2a7-8953-400c-ae91-ece05b3c5233",
   "metadata": {},
   "outputs": [],
   "source": [
    "from libs.corp_df import *\n",
    "from libs.get_docs import get_pickled_docs as gpd\n",
    "import numpy as np\n",
    "import torch\n",
    "from sklearn.metrics import silhouette_score\n",
    "from tqdm.auto import tqdm\n",
    "import random\n",
    "import pandas as pd\n",
    "import itertools"
   ]
  },
  {
   "cell_type": "code",
   "execution_count": 2,
   "id": "4b74aca6-acc0-4cd4-a635-19f2d53b1c10",
   "metadata": {},
   "outputs": [
    {
     "name": "stdout",
     "output_type": "stream",
     "text": [
      "Retrieving Documents...\n",
      "TIME ELAPSED: 30.32s\n"
     ]
    }
   ],
   "source": [
    "# retrieve documents\n",
    "print('Retrieving Documents...')\n",
    "cdir = 'corpora/articles_stage2.pickle'\n",
    "docs = gpd(cdir, verbose=True)"
   ]
  },
  {
   "cell_type": "code",
   "execution_count": 3,
   "id": "6a9c674b-b5da-413b-9aa5-da942dd70778",
   "metadata": {},
   "outputs": [
    {
     "name": "stdout",
     "output_type": "stream",
     "text": [
      "getting raw roots...\n"
     ]
    },
    {
     "data": {
      "application/vnd.jupyter.widget-view+json": {
       "model_id": "241b19af3b6445e8a467bed08ac4d955",
       "version_major": 2,
       "version_minor": 0
      },
      "text/plain": [
       "  0%|          | 0/524 [00:00<?, ?it/s]"
      ]
     },
     "metadata": {},
     "output_type": "display_data"
    },
    {
     "name": "stdout",
     "output_type": "stream",
     "text": [
      "filtering...\n"
     ]
    },
    {
     "data": {
      "application/vnd.jupyter.widget-view+json": {
       "model_id": "f072ff91ec6b4b0f925095174955bb8e",
       "version_major": 2,
       "version_minor": 0
      },
      "text/plain": [
       "  0%|          | 0/26165 [00:00<?, ?it/s]"
      ]
     },
     "metadata": {},
     "output_type": "display_data"
    },
    {
     "name": "stdout",
     "output_type": "stream",
     "text": [
      "308\n"
     ]
    }
   ],
   "source": [
    "roots_raw = []\n",
    "print('getting raw roots...')\n",
    "for doc in tqdm(docs):\n",
    "    for pg in doc:\n",
    "        for sent in pg:\n",
    "            for tok in sent:\n",
    "                for lem in tok:\n",
    "                    if lem.pos_tag in ['VB', 'BN', 'BNT']:\n",
    "                        if lem.shoresh is not None:\n",
    "                            roots_raw.append(lem.shoresh)\n",
    "                            \n",
    "# filter by minimum # occurrences\n",
    "print('filtering...')\n",
    "valid_roots = set([i for i in tqdm(roots_raw) if roots_raw.count(i) > 19])\n",
    "print(len(valid_roots))"
   ]
  },
  {
   "cell_type": "code",
   "execution_count": 4,
   "id": "9687b443-8bde-4291-987c-5985205a373f",
   "metadata": {},
   "outputs": [],
   "source": [
    "def select_roots(i):\n",
    "    return random.sample(valid_roots, i)\n",
    "\n",
    "def get_df(num_roots):\n",
    "    roots = select_roots(num_roots)\n",
    "    cats = ['lemma', 'root', 'binyan', 'raw_embedding']\n",
    "    dfdict = {cat: [] for cat in cats}\n",
    "    \n",
    "    for doc in docs:\n",
    "        for pg in doc:\n",
    "            for sent in pg:\n",
    "                for tok in sent:\n",
    "                    if tok.tokenizer_index != 1:\n",
    "                        for lem in tok:\n",
    "                            if lem.shoresh in roots:\n",
    "                                # get metadata\n",
    "                                dfdict['lemma'].append(lem.lemma)\n",
    "                                dfdict['root'].append(lem.shoresh)\n",
    "                                dfdict['binyan'].append(lem.binyan)\n",
    "                                dfdict['raw_embedding'].append(tok.embedding)\n",
    "    \n",
    "    return pd.DataFrame(dfdict)\n",
    "\n",
    "def get_summed_layers(embedding, layers):\n",
    "    if type(layers) == int:\n",
    "        return embedding[layers].numpy()\n",
    "    else:\n",
    "        return sum([embedding[l].numpy() for l in layers]).numpy()\n",
    "\n",
    "def roots_to_num(roots):\n",
    "    unique_roots = set(roots)\n",
    "    return {root: num for root, num in zip(unique_roots, range(len(unique_roots)))}\n",
    "\n",
    "def silhouette_exp(df, layers):\n",
    "    # so there's no data issues\n",
    "    cdf = df.copy()\n",
    "    # get embeddings for each layer\n",
    "    cdf['chosen_embedding'] = cdf['raw_embedding'].apply(lambda embed: get_summed_layers(embed, layers))\n",
    "    # get root IDs\n",
    "    cdf['root_id'] = cdf['root'].map(roots_to_num(cdf['root']))\n",
    "    embeds = cdf['chosen_embedding'].to_list()\n",
    "    labs = cdf['root_id'].to_numpy()\n",
    "    # get silhouette score\n",
    "    score = silhouette_score(embeds, labs, metric='cosine')\n",
    "    \n",
    "    del cdf\n",
    "    return score"
   ]
  },
  {
   "cell_type": "code",
   "execution_count": 5,
   "id": "264963a1-5f2c-4518-af47-6f80b290312d",
   "metadata": {},
   "outputs": [
    {
     "data": {
      "application/vnd.jupyter.widget-view+json": {
       "model_id": "4c85c0aa63864c4994c27dd437408407",
       "version_major": 2,
       "version_minor": 0
      },
      "text/plain": [
       "  0%|          | 0/100 [00:00<?, ?it/s]"
      ]
     },
     "metadata": {},
     "output_type": "display_data"
    }
   ],
   "source": [
    "results = {'exp_id': [], 'roots': [], 'best_layer': []}\n",
    "    \n",
    "for i in range(12):\n",
    "    results['silhouette_layer_' + str(i)] = []\n",
    "\n",
    "NUM_ROOTS = 5\n",
    "for i in tqdm(range(100)):\n",
    "    results['exp_id'].append(i)\n",
    "    df = get_df(NUM_ROOTS)\n",
    "    results['roots'].append(df['root'].unique())\n",
    "    scores = []\n",
    "    for layer in range(12):\n",
    "        score = silhouette_exp(df, layer)\n",
    "        scores.append((layer, score))\n",
    "        results['silhouette_layer_' + str(layer)].append(score)\n",
    "        \n",
    "    results['best_layer'].append(max(scores, key=lambda j: j[1])[0])\n",
    "    \n",
    "resultsdf = pd.DataFrame(results)"
   ]
  },
  {
   "cell_type": "code",
   "execution_count": 6,
   "id": "a23d041c-6bdb-496b-96ea-95991c78e307",
   "metadata": {},
   "outputs": [
    {
     "name": "stdout",
     "output_type": "stream",
     "text": [
      "[0]\n"
     ]
    }
   ],
   "source": [
    "print(resultsdf['best_layer'].unique())"
   ]
  },
  {
   "cell_type": "code",
   "execution_count": 7,
   "id": "3186d4dd-84e5-4399-9ad6-18782d2c1d39",
   "metadata": {},
   "outputs": [
    {
     "data": {
      "text/html": [
       "<div>\n",
       "<style scoped>\n",
       "    .dataframe tbody tr th:only-of-type {\n",
       "        vertical-align: middle;\n",
       "    }\n",
       "\n",
       "    .dataframe tbody tr th {\n",
       "        vertical-align: top;\n",
       "    }\n",
       "\n",
       "    .dataframe thead th {\n",
       "        text-align: right;\n",
       "    }\n",
       "</style>\n",
       "<table border=\"1\" class=\"dataframe\">\n",
       "  <thead>\n",
       "    <tr style=\"text-align: right;\">\n",
       "      <th></th>\n",
       "      <th>exp_id</th>\n",
       "      <th>roots</th>\n",
       "      <th>best_layer</th>\n",
       "      <th>silhouette_layer_0</th>\n",
       "      <th>silhouette_layer_1</th>\n",
       "      <th>silhouette_layer_2</th>\n",
       "      <th>silhouette_layer_3</th>\n",
       "      <th>silhouette_layer_4</th>\n",
       "      <th>silhouette_layer_5</th>\n",
       "      <th>silhouette_layer_6</th>\n",
       "      <th>silhouette_layer_7</th>\n",
       "      <th>silhouette_layer_8</th>\n",
       "      <th>silhouette_layer_9</th>\n",
       "      <th>silhouette_layer_10</th>\n",
       "      <th>silhouette_layer_11</th>\n",
       "    </tr>\n",
       "  </thead>\n",
       "  <tbody>\n",
       "    <tr>\n",
       "      <th>23</th>\n",
       "      <td>23</td>\n",
       "      <td>[צרר, צרך, כרז, ברך, מחש]</td>\n",
       "      <td>0</td>\n",
       "      <td>0.662512</td>\n",
       "      <td>0.632522</td>\n",
       "      <td>0.603610</td>\n",
       "      <td>0.561553</td>\n",
       "      <td>0.542485</td>\n",
       "      <td>0.537145</td>\n",
       "      <td>0.526490</td>\n",
       "      <td>0.513411</td>\n",
       "      <td>0.498907</td>\n",
       "      <td>0.475186</td>\n",
       "      <td>0.461631</td>\n",
       "      <td>0.459922</td>\n",
       "    </tr>\n",
       "    <tr>\n",
       "      <th>42</th>\n",
       "      <td>42</td>\n",
       "      <td>[חסל, צלח, דמה, כנע, טהר]</td>\n",
       "      <td>0</td>\n",
       "      <td>0.471508</td>\n",
       "      <td>0.441891</td>\n",
       "      <td>0.420218</td>\n",
       "      <td>0.386346</td>\n",
       "      <td>0.360357</td>\n",
       "      <td>0.360402</td>\n",
       "      <td>0.338064</td>\n",
       "      <td>0.308588</td>\n",
       "      <td>0.289905</td>\n",
       "      <td>0.260138</td>\n",
       "      <td>0.264804</td>\n",
       "      <td>0.278537</td>\n",
       "    </tr>\n",
       "    <tr>\n",
       "      <th>16</th>\n",
       "      <td>16</td>\n",
       "      <td>[צבע, רצה, כשל, קנה, זהר]</td>\n",
       "      <td>0</td>\n",
       "      <td>0.468705</td>\n",
       "      <td>0.438921</td>\n",
       "      <td>0.409975</td>\n",
       "      <td>0.367003</td>\n",
       "      <td>0.342957</td>\n",
       "      <td>0.333371</td>\n",
       "      <td>0.324255</td>\n",
       "      <td>0.304000</td>\n",
       "      <td>0.285999</td>\n",
       "      <td>0.267309</td>\n",
       "      <td>0.253588</td>\n",
       "      <td>0.263429</td>\n",
       "    </tr>\n",
       "    <tr>\n",
       "      <th>21</th>\n",
       "      <td>21</td>\n",
       "      <td>[חוש, פרט, שלם, נכר, כונ]</td>\n",
       "      <td>0</td>\n",
       "      <td>0.465632</td>\n",
       "      <td>0.443504</td>\n",
       "      <td>0.413240</td>\n",
       "      <td>0.389740</td>\n",
       "      <td>0.368373</td>\n",
       "      <td>0.356841</td>\n",
       "      <td>0.349700</td>\n",
       "      <td>0.341256</td>\n",
       "      <td>0.327098</td>\n",
       "      <td>0.314876</td>\n",
       "      <td>0.309766</td>\n",
       "      <td>0.314474</td>\n",
       "    </tr>\n",
       "    <tr>\n",
       "      <th>90</th>\n",
       "      <td>90</td>\n",
       "      <td>[סיע, פסד, הרס, תקן, נוע]</td>\n",
       "      <td>0</td>\n",
       "      <td>0.462590</td>\n",
       "      <td>0.419125</td>\n",
       "      <td>0.371330</td>\n",
       "      <td>0.331106</td>\n",
       "      <td>0.302964</td>\n",
       "      <td>0.298957</td>\n",
       "      <td>0.287007</td>\n",
       "      <td>0.276205</td>\n",
       "      <td>0.262493</td>\n",
       "      <td>0.247598</td>\n",
       "      <td>0.238293</td>\n",
       "      <td>0.244467</td>\n",
       "    </tr>\n",
       "  </tbody>\n",
       "</table>\n",
       "</div>"
      ],
      "text/plain": [
       "    exp_id                      roots  best_layer  silhouette_layer_0  \\\n",
       "23      23  [צרר, צרך, כרז, ברך, מחש]           0            0.662512   \n",
       "42      42  [חסל, צלח, דמה, כנע, טהר]           0            0.471508   \n",
       "16      16  [צבע, רצה, כשל, קנה, זהר]           0            0.468705   \n",
       "21      21  [חוש, פרט, שלם, נכר, כונ]           0            0.465632   \n",
       "90      90  [סיע, פסד, הרס, תקן, נוע]           0            0.462590   \n",
       "\n",
       "    silhouette_layer_1  silhouette_layer_2  silhouette_layer_3  \\\n",
       "23            0.632522            0.603610            0.561553   \n",
       "42            0.441891            0.420218            0.386346   \n",
       "16            0.438921            0.409975            0.367003   \n",
       "21            0.443504            0.413240            0.389740   \n",
       "90            0.419125            0.371330            0.331106   \n",
       "\n",
       "    silhouette_layer_4  silhouette_layer_5  silhouette_layer_6  \\\n",
       "23            0.542485            0.537145            0.526490   \n",
       "42            0.360357            0.360402            0.338064   \n",
       "16            0.342957            0.333371            0.324255   \n",
       "21            0.368373            0.356841            0.349700   \n",
       "90            0.302964            0.298957            0.287007   \n",
       "\n",
       "    silhouette_layer_7  silhouette_layer_8  silhouette_layer_9  \\\n",
       "23            0.513411            0.498907            0.475186   \n",
       "42            0.308588            0.289905            0.260138   \n",
       "16            0.304000            0.285999            0.267309   \n",
       "21            0.341256            0.327098            0.314876   \n",
       "90            0.276205            0.262493            0.247598   \n",
       "\n",
       "    silhouette_layer_10  silhouette_layer_11  \n",
       "23             0.461631             0.459922  \n",
       "42             0.264804             0.278537  \n",
       "16             0.253588             0.263429  \n",
       "21             0.309766             0.314474  \n",
       "90             0.238293             0.244467  "
      ]
     },
     "execution_count": 7,
     "metadata": {},
     "output_type": "execute_result"
    }
   ],
   "source": [
    "resultsdf.sort_values(by='silhouette_layer_0', ascending=False, inplace=True)\n",
    "resultsdf.head()"
   ]
  },
  {
   "cell_type": "code",
   "execution_count": null,
   "id": "08d341eb-9507-412f-9dbe-2348e7577fc4",
   "metadata": {},
   "outputs": [],
   "source": []
  }
 ],
 "metadata": {
  "kernelspec": {
   "display_name": "Python 3",
   "language": "python",
   "name": "python3"
  },
  "language_info": {
   "codemirror_mode": {
    "name": "ipython",
    "version": 3
   },
   "file_extension": ".py",
   "mimetype": "text/x-python",
   "name": "python",
   "nbconvert_exporter": "python",
   "pygments_lexer": "ipython3",
   "version": "3.8.8"
  }
 },
 "nbformat": 4,
 "nbformat_minor": 5
}
