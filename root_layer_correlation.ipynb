{
 "cells": [
  {
   "cell_type": "code",
   "execution_count": 1,
   "id": "0b4d3ad7-da95-4968-8841-349fc4f9343c",
   "metadata": {},
   "outputs": [],
   "source": [
    "import pandas as pd\n",
    "import numpy as np\n",
    "from tqdm.auto import tqdm\n",
    "from scipy.stats import pearsonr, pointbiserialr\n",
    "from tabulate import tabulate"
   ]
  },
  {
   "cell_type": "code",
   "execution_count": 2,
   "id": "858f80de-9c56-4dca-a24b-3335a68fd28b",
   "metadata": {},
   "outputs": [
    {
     "data": {
      "application/vnd.jupyter.widget-view+json": {
       "model_id": "66325c36bcd54b9191a8dd63cb7e3d93",
       "version_major": 2,
       "version_minor": 0
      },
      "text/plain": [
       "0it [00:00, ?it/s]"
      ]
     },
     "metadata": {},
     "output_type": "display_data"
    },
    {
     "name": "stdout",
     "output_type": "stream",
     "text": [
      "649230\n"
     ]
    }
   ],
   "source": [
    "csvdir = 'data/metrics.csv'\n",
    "df = pd.read_csv(csvdir)\n",
    "df['same_cluster'] = [i == j for i, j in tqdm(zip(df['root_1'].to_list(), df['root_2'].to_list()))]\n",
    "print(len(df))"
   ]
  },
  {
   "cell_type": "code",
   "execution_count": 3,
   "id": "2e9f6878-b17c-4bf2-822e-0ef4ea423a87",
   "metadata": {},
   "outputs": [
    {
     "data": {
      "text/html": [
       "<div>\n",
       "<style scoped>\n",
       "    .dataframe tbody tr th:only-of-type {\n",
       "        vertical-align: middle;\n",
       "    }\n",
       "\n",
       "    .dataframe tbody tr th {\n",
       "        vertical-align: top;\n",
       "    }\n",
       "\n",
       "    .dataframe thead th {\n",
       "        text-align: right;\n",
       "    }\n",
       "</style>\n",
       "<table border=\"1\" class=\"dataframe\">\n",
       "  <thead>\n",
       "    <tr style=\"text-align: right;\">\n",
       "      <th></th>\n",
       "      <th>Unnamed: 0</th>\n",
       "      <th>id_1</th>\n",
       "      <th>id_2</th>\n",
       "      <th>raw_tok_1</th>\n",
       "      <th>raw_tok_2</th>\n",
       "      <th>form_1</th>\n",
       "      <th>form_2</th>\n",
       "      <th>root_1</th>\n",
       "      <th>root_2</th>\n",
       "      <th>tok_index_1</th>\n",
       "      <th>...</th>\n",
       "      <th>sim_3</th>\n",
       "      <th>sim_4</th>\n",
       "      <th>sim_5</th>\n",
       "      <th>sim_6</th>\n",
       "      <th>sim_7</th>\n",
       "      <th>sim_8</th>\n",
       "      <th>sim_9</th>\n",
       "      <th>sim_10</th>\n",
       "      <th>sim_11</th>\n",
       "      <th>same_cluster</th>\n",
       "    </tr>\n",
       "  </thead>\n",
       "  <tbody>\n",
       "    <tr>\n",
       "      <th>0</th>\n",
       "      <td>0</td>\n",
       "      <td>101</td>\n",
       "      <td>101</td>\n",
       "      <td>שדרדרו</td>\n",
       "      <td>שדרדרו</td>\n",
       "      <td>דרדרו</td>\n",
       "      <td>דרדרו</td>\n",
       "      <td>דרדר</td>\n",
       "      <td>דרדר</td>\n",
       "      <td>1</td>\n",
       "      <td>...</td>\n",
       "      <td>1.000000</td>\n",
       "      <td>1.000000</td>\n",
       "      <td>1.000000</td>\n",
       "      <td>1.000000</td>\n",
       "      <td>1.000000</td>\n",
       "      <td>1.000000</td>\n",
       "      <td>1.000000</td>\n",
       "      <td>1.000000</td>\n",
       "      <td>1.000000</td>\n",
       "      <td>True</td>\n",
       "    </tr>\n",
       "    <tr>\n",
       "      <th>1</th>\n",
       "      <td>1</td>\n",
       "      <td>101</td>\n",
       "      <td>126</td>\n",
       "      <td>שדרדרו</td>\n",
       "      <td>אוטם</td>\n",
       "      <td>דרדרו</td>\n",
       "      <td>אוטם</td>\n",
       "      <td>דרדר</td>\n",
       "      <td>אטם</td>\n",
       "      <td>1</td>\n",
       "      <td>...</td>\n",
       "      <td>0.730477</td>\n",
       "      <td>0.652115</td>\n",
       "      <td>0.576401</td>\n",
       "      <td>0.522868</td>\n",
       "      <td>0.499311</td>\n",
       "      <td>0.498294</td>\n",
       "      <td>0.451898</td>\n",
       "      <td>0.402263</td>\n",
       "      <td>0.353998</td>\n",
       "      <td>False</td>\n",
       "    </tr>\n",
       "    <tr>\n",
       "      <th>2</th>\n",
       "      <td>2</td>\n",
       "      <td>101</td>\n",
       "      <td>152</td>\n",
       "      <td>שדרדרו</td>\n",
       "      <td>להאריך</td>\n",
       "      <td>דרדרו</td>\n",
       "      <td>להאריך</td>\n",
       "      <td>דרדר</td>\n",
       "      <td>ארך</td>\n",
       "      <td>1</td>\n",
       "      <td>...</td>\n",
       "      <td>0.111067</td>\n",
       "      <td>0.091348</td>\n",
       "      <td>0.084073</td>\n",
       "      <td>0.070992</td>\n",
       "      <td>0.071237</td>\n",
       "      <td>0.101646</td>\n",
       "      <td>0.188659</td>\n",
       "      <td>0.073471</td>\n",
       "      <td>0.073793</td>\n",
       "      <td>False</td>\n",
       "    </tr>\n",
       "    <tr>\n",
       "      <th>3</th>\n",
       "      <td>3</td>\n",
       "      <td>101</td>\n",
       "      <td>164</td>\n",
       "      <td>שדרדרו</td>\n",
       "      <td>תגרור</td>\n",
       "      <td>דרדרו</td>\n",
       "      <td>תגרור</td>\n",
       "      <td>דרדר</td>\n",
       "      <td>גרר</td>\n",
       "      <td>1</td>\n",
       "      <td>...</td>\n",
       "      <td>0.687920</td>\n",
       "      <td>0.645161</td>\n",
       "      <td>0.591641</td>\n",
       "      <td>0.539504</td>\n",
       "      <td>0.510159</td>\n",
       "      <td>0.466521</td>\n",
       "      <td>0.470393</td>\n",
       "      <td>0.390167</td>\n",
       "      <td>0.409420</td>\n",
       "      <td>False</td>\n",
       "    </tr>\n",
       "    <tr>\n",
       "      <th>4</th>\n",
       "      <td>4</td>\n",
       "      <td>101</td>\n",
       "      <td>175</td>\n",
       "      <td>שדרדרו</td>\n",
       "      <td>סוערת</td>\n",
       "      <td>דרדרו</td>\n",
       "      <td>סוערת</td>\n",
       "      <td>דרדר</td>\n",
       "      <td>סער</td>\n",
       "      <td>1</td>\n",
       "      <td>...</td>\n",
       "      <td>0.203985</td>\n",
       "      <td>0.168048</td>\n",
       "      <td>0.137290</td>\n",
       "      <td>0.145948</td>\n",
       "      <td>0.168105</td>\n",
       "      <td>0.187005</td>\n",
       "      <td>0.255144</td>\n",
       "      <td>0.176677</td>\n",
       "      <td>0.217242</td>\n",
       "      <td>False</td>\n",
       "    </tr>\n",
       "  </tbody>\n",
       "</table>\n",
       "<p>5 rows × 24 columns</p>\n",
       "</div>"
      ],
      "text/plain": [
       "   Unnamed: 0  id_1  id_2 raw_tok_1 raw_tok_2 form_1  form_2 root_1 root_2  \\\n",
       "0           0   101   101    שדרדרו    שדרדרו  דרדרו   דרדרו   דרדר   דרדר   \n",
       "1           1   101   126    שדרדרו      אוטם  דרדרו    אוטם   דרדר    אטם   \n",
       "2           2   101   152    שדרדרו    להאריך  דרדרו  להאריך   דרדר    ארך   \n",
       "3           3   101   164    שדרדרו     תגרור  דרדרו   תגרור   דרדר    גרר   \n",
       "4           4   101   175    שדרדרו     סוערת  דרדרו   סוערת   דרדר    סער   \n",
       "\n",
       "   tok_index_1  ...     sim_3     sim_4     sim_5     sim_6     sim_7  \\\n",
       "0            1  ...  1.000000  1.000000  1.000000  1.000000  1.000000   \n",
       "1            1  ...  0.730477  0.652115  0.576401  0.522868  0.499311   \n",
       "2            1  ...  0.111067  0.091348  0.084073  0.070992  0.071237   \n",
       "3            1  ...  0.687920  0.645161  0.591641  0.539504  0.510159   \n",
       "4            1  ...  0.203985  0.168048  0.137290  0.145948  0.168105   \n",
       "\n",
       "      sim_8     sim_9    sim_10    sim_11  same_cluster  \n",
       "0  1.000000  1.000000  1.000000  1.000000          True  \n",
       "1  0.498294  0.451898  0.402263  0.353998         False  \n",
       "2  0.101646  0.188659  0.073471  0.073793         False  \n",
       "3  0.466521  0.470393  0.390167  0.409420         False  \n",
       "4  0.187005  0.255144  0.176677  0.217242         False  \n",
       "\n",
       "[5 rows x 24 columns]"
      ]
     },
     "execution_count": 3,
     "metadata": {},
     "output_type": "execute_result"
    }
   ],
   "source": [
    "df.head()"
   ]
  },
  {
   "cell_type": "code",
   "execution_count": 4,
   "id": "aaafd1a7-52e6-4890-a6fe-3e9917b4689c",
   "metadata": {},
   "outputs": [],
   "source": [
    "headers = ['Layer', 'R-Val']\n",
    "def correlate(df):\n",
    "    corrs = []\n",
    "    for i in range(12):\n",
    "        col = df['sim_' + str(i)].to_numpy()\n",
    "        same_cluster = df['same_cluster'].to_numpy()\n",
    "        r, p = pointbiserialr(same_cluster, col)\n",
    "        corrs.append((i, np.round(r, 3)))\n",
    "\n",
    "    corrs.sort(key=lambda i: i[1], reverse=True)\n",
    "    print(tabulate(corrs, headers=headers))"
   ]
  },
  {
   "cell_type": "code",
   "execution_count": 5,
   "id": "99e7d34b-dc11-4b93-ba52-0999a6a3a9cd",
   "metadata": {},
   "outputs": [
    {
     "name": "stdout",
     "output_type": "stream",
     "text": [
      "  Layer    R-Val\n",
      "-------  -------\n",
      "     11    0.376\n",
      "     10    0.353\n",
      "      5    0.342\n",
      "      4    0.34\n",
      "      6    0.34\n",
      "      7    0.34\n",
      "      8    0.334\n",
      "      2    0.333\n",
      "      3    0.332\n",
      "      9    0.325\n",
      "      1    0.317\n",
      "      0    0.304\n"
     ]
    }
   ],
   "source": [
    "correlate(df)"
   ]
  },
  {
   "cell_type": "code",
   "execution_count": 6,
   "id": "97fe227d-b526-47f5-9e92-0eab609dd750",
   "metadata": {},
   "outputs": [
    {
     "name": "stdout",
     "output_type": "stream",
     "text": [
      "365085\n"
     ]
    }
   ],
   "source": [
    "dff = df[(df['tok_index_1'] != 1) & (df['tok_index_2'] != 1)]\n",
    "print(len(dff))"
   ]
  },
  {
   "cell_type": "code",
   "execution_count": 9,
   "id": "0aa141cb-2b5e-4395-8c79-d5f154d6f1a4",
   "metadata": {},
   "outputs": [
    {
     "name": "stdout",
     "output_type": "stream",
     "text": [
      "{'פעלה', 'ולאפשר', 'איבדתי', 'נערה', 'מעוצב', 'כתבנו', 'תובע', 'להעיד', 'להתאבד', 'איבד', 'מעריב', 'פעל', 'כתבה', 'וערב', 'וכתוב', 'מצאה', 'כותבים', 'יצחק', 'פעלו', 'צעד', 'מעודדת', 'פועלות', 'נפעל', 'הפועל', 'שמופיע', 'אדיר', 'פועל', 'שתיתי', 'המציא', 'שותה', 'צועדים', 'שנכתבה', 'סוערת', 'צועד', 'יכתוב', 'פועלים', 'מופיעות', 'לפעול', 'כתב', 'המיט', 'לאפשר', 'ומוכן', 'נחת', 'כתובים', 'שאיבדה', 'מוצאם', 'נכתבו', 'שימצא', 'הניחו', 'למצוא', 'איבדה', 'תאבד', 'להימצא', 'כבודו', 'הנמצאות', 'ולמצוא', 'להאריך', 'נמצאו', 'וכותב', 'אמצא', 'שתה', 'ויאבד', 'תאפשר', 'המופיע', 'בנמצא', 'שנח', 'להפעיל', 'שתאפשר', 'מצאו', 'יפעלו', 'נמצא', 'ולכתוב', 'מאבדים', 'נמצאים', 'מאבדת', 'לצחוק', 'האריך', 'ולעודד', 'להתבגר', 'ולשתות', 'מצאנו', 'הצחיק', 'מעודד', 'המעידים', 'לצעוד', 'לקלוט', 'להניח', 'מקהלת', 'הנמצאת', 'מניח', 'בדה', 'הניח', 'שתי', 'המציאו', 'אפשר', 'שפועלים', 'מאן', 'צעדו', 'הכתיבה', 'התובעת', 'התאפשר', 'פועלת', 'שנמצא', 'מופיעה', 'נאבד', 'כותב', 'המציאה', 'ולפעול', 'ימצאו', 'בולי', 'תם', 'מאריך', 'יימצא', 'מפעיל', 'שאיבדו', 'איבדו', 'נועד', 'עיצב', 'לטפח', 'מאפשרת', 'ומאפשר', 'מעיק', 'שמאפשרת', 'מכנה', 'מוצאים', 'תבע', 'ופועלים', 'מונח', 'תמצאו', 'אירע', 'אובדן', 'ליצחק', 'להמציא', 'מצחיקה', 'הומצא', 'קלטתי', 'נניח', 'כתובות', 'קולטים', 'מופיע', 'מונחת', 'בילה', 'ארכי', 'תמצא', 'המאפיינת', 'מפעילים', 'אבדה', 'נגרר', 'הופעל', 'הייתם', 'מצחיק', 'הנמצאים', 'יופיע', 'נכתבה', 'מועדים', 'אכן', 'אפשרו', 'נמצאות', 'מאפשרים', 'מאבד', 'מוטות', 'הופיע', 'גלולות', 'לחנך', 'מניחים', 'מעידים', 'נער', 'להופיע', 'המופיעים', 'לכתוב', 'הוארך', 'ימצא', 'מצא', 'עוצב', 'מאפשר', 'מופיעים', 'להתנער', 'ונמצא', 'מוכן', 'להתערב', 'שפעלו', 'כתבו', 'לגרור', 'מעיד', 'הפעיל', 'כתוב', 'שכתב', 'לעצב', 'הפועלים', 'מפעילה', 'שאירע', 'לאבד', 'יאבדו', 'נוער', 'כתבתי', 'הקהילה', 'להכתיב', 'מתאפיינת', 'הפועלות', 'מתערבים', 'נכתב', 'יאבד', 'שהמציא', 'אבד', 'המצוי', 'אבדו', 'שנכתב', 'מצאתי', 'שתמצאו', 'נוטה', 'תדיר', 'המופיעה', 'שמאפשר', 'לעודד', 'לשתות', 'הפועלת', 'ערב', 'עודד', 'הנמצא', 'בלי', 'הופיעו', 'נח', 'שכתוב', 'הופיעה', 'שרק', 'שנכתבו', 'ומאפשרת', 'ומאפשרים', 'מעידה', 'יאפשרו', 'צחק', 'שפועל', 'נמצאת', 'ופועל', 'המאפשר', 'כתבת', 'נמצאה', 'שפועלת', 'לתבוע', 'לאובדן', 'המופיעות', 'נחה', 'העיד'}\n"
     ]
    }
   ],
   "source": [
    "print(set(dff['raw_tok_1']))"
   ]
  },
  {
   "cell_type": "code",
   "execution_count": 7,
   "id": "85d3bd7a-dd13-46b3-bfdc-7f12a8eeff40",
   "metadata": {},
   "outputs": [
    {
     "name": "stdout",
     "output_type": "stream",
     "text": [
      "  Layer    R-Val\n",
      "-------  -------\n",
      "      0    0.702\n",
      "      1    0.662\n",
      "      2    0.636\n",
      "      3    0.613\n",
      "      4    0.601\n",
      "      5    0.59\n",
      "     11    0.584\n",
      "      6    0.569\n",
      "      7    0.54\n",
      "     10    0.525\n",
      "      8    0.506\n",
      "      9    0.473\n"
     ]
    }
   ],
   "source": [
    "correlate(dff)"
   ]
  },
  {
   "cell_type": "code",
   "execution_count": null,
   "id": "3a240b70-0c48-4e5a-982b-a2fd20a0940f",
   "metadata": {},
   "outputs": [],
   "source": []
  }
 ],
 "metadata": {
  "kernelspec": {
   "display_name": "Python 3",
   "language": "python",
   "name": "python3"
  },
  "language_info": {
   "codemirror_mode": {
    "name": "ipython",
    "version": 3
   },
   "file_extension": ".py",
   "mimetype": "text/x-python",
   "name": "python",
   "nbconvert_exporter": "python",
   "pygments_lexer": "ipython3",
   "version": "3.8.8"
  }
 },
 "nbformat": 4,
 "nbformat_minor": 5
}
