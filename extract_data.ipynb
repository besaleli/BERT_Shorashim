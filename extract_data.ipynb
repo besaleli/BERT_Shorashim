{
 "cells": [
  {
   "cell_type": "code",
   "execution_count": 1,
   "id": "7563e61d-4222-4054-a23b-805dc3a3c044",
   "metadata": {},
   "outputs": [],
   "source": [
    "from bs4 import BeautifulSoup\n",
    "import bs4\n",
    "from libs.corp_df import *\n",
    "from libs.makeDocument import *\n",
    "import glob\n",
    "from tqdm.auto import tqdm\n",
    "import numpy as np\n",
    "import pickle\n",
    "import sys"
   ]
  },
  {
   "cell_type": "code",
   "execution_count": 2,
   "id": "a7d7b6db-cbb1-4952-8ea2-b31a5c1e9d68",
   "metadata": {},
   "outputs": [],
   "source": [
    "ARTICLE_CORPUS_DIR = 'corpora/articles_raw'"
   ]
  },
  {
   "cell_type": "code",
   "execution_count": 3,
   "id": "6fa8294d-5566-41eb-9f50-c917bdbcf354",
   "metadata": {},
   "outputs": [
    {
     "data": {
      "application/vnd.jupyter.widget-view+json": {
       "model_id": "4d40e66ef60146b5af6d7b47dec8a15a",
       "version_major": 2,
       "version_minor": 0
      },
      "text/plain": [
       "  0%|          | 0/2622 [00:00<?, ?it/s]"
      ]
     },
     "metadata": {},
     "output_type": "display_data"
    }
   ],
   "source": [
    "docs = []\n",
    "for file in tqdm(glob.glob(ARTICLE_CORPUS_DIR + '/*/*.xml')):\n",
    "    try:\n",
    "        doc_id = int(file[-8:-4])\n",
    "    except Exception:\n",
    "        doc_id = int(file[-7:-4])\n",
    "    docs.append(makeDocument(doc_id, file))"
   ]
  },
  {
   "cell_type": "code",
   "execution_count": 4,
   "id": "b96e22b1-6dcc-4d7f-854b-6e8d4bfd5590",
   "metadata": {},
   "outputs": [
    {
     "name": "stdout",
     "output_type": "stream",
     "text": [
      "20.55KB\n"
     ]
    }
   ],
   "source": [
    "num_kb = sys.getsizeof(docs) / 1024\n",
    "print(str(np.round(num_kb, 2)) + 'KB')"
   ]
  },
  {
   "cell_type": "code",
   "execution_count": 5,
   "id": "09a581af-7910-4d50-83b2-af7ec929f235",
   "metadata": {},
   "outputs": [],
   "source": [
    "savedir = 'corpora/articles_stage1.pickle'\n",
    "with open(savedir, 'wb') as f:\n",
    "    pickle.dump(docs, f)\n",
    "    f.close()"
   ]
  },
  {
   "cell_type": "code",
   "execution_count": null,
   "id": "a47a2ad7-0f32-4f41-9c00-c498386377e7",
   "metadata": {},
   "outputs": [],
   "source": []
  }
 ],
 "metadata": {
  "kernelspec": {
   "display_name": "Python 3",
   "language": "python",
   "name": "python3"
  },
  "language_info": {
   "codemirror_mode": {
    "name": "ipython",
    "version": 3
   },
   "file_extension": ".py",
   "mimetype": "text/x-python",
   "name": "python",
   "nbconvert_exporter": "python",
   "pygments_lexer": "ipython3",
   "version": "3.8.8"
  }
 },
 "nbformat": 4,
 "nbformat_minor": 5
}
